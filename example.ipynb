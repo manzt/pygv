{
 "cells": [
  {
   "cell_type": "code",
   "execution_count": 1,
   "metadata": {},
   "outputs": [
    {
     "name": "stdout",
     "output_type": "stream",
     "text": [
      "env: ANYWIDGET_HMR=1\n"
     ]
    }
   ],
   "source": [
    "%load_ext autoreload\n",
    "%autoreload 2\n",
    "%env ANYWIDGET_HMR=1"
   ]
  },
  {
   "cell_type": "code",
   "execution_count": 6,
   "metadata": {},
   "outputs": [
    {
     "ename": "FileNotFoundError",
     "evalue": "/Users/manzt/demos/pygv/fragments.bed",
     "output_type": "error",
     "traceback": [
      "\u001b[0;31m---------------------------------------------------------------------------\u001b[0m",
      "\u001b[0;31mFileNotFoundError\u001b[0m                         Traceback (most recent call last)",
      "Cell \u001b[0;32mIn[6], line 5\u001b[0m\n\u001b[1;32m      3\u001b[0m pygv\u001b[38;5;241m.\u001b[39mref(\u001b[38;5;124m\"\u001b[39m\u001b[38;5;124mmm10\u001b[39m\u001b[38;5;124m\"\u001b[39m)\n\u001b[1;32m      4\u001b[0m pygv\u001b[38;5;241m.\u001b[39mlocus(\u001b[38;5;124m\"\u001b[39m\u001b[38;5;124mchr17:31,531,100-31,531,259\u001b[39m\u001b[38;5;124m\"\u001b[39m)\n\u001b[0;32m----> 5\u001b[0m \u001b[43mpygv\u001b[49m\u001b[38;5;241;43m.\u001b[39;49m\u001b[43mbrowse\u001b[49m\u001b[43m(\u001b[49m\u001b[38;5;124;43m\"\u001b[39;49m\u001b[38;5;124;43mfragments.bed\u001b[39;49m\u001b[38;5;124;43m\"\u001b[39;49m\u001b[43m,\u001b[49m\u001b[43m \u001b[49m\u001b[38;5;124;43m\"\u001b[39;49m\u001b[38;5;124;43m10x_cov.bw\u001b[39;49m\u001b[38;5;124;43m\"\u001b[39;49m\u001b[43m)\u001b[49m\n",
      "File \u001b[0;32m~/demos/pygv/src/pygv/_api.py:116\u001b[0m, in \u001b[0;36mbrowse\u001b[0;34m(*tracks)\u001b[0m\n\u001b[1;32m    100\u001b[0m \u001b[38;5;28;01mdef\u001b[39;00m \u001b[38;5;21mbrowse\u001b[39m(\u001b[38;5;241m*\u001b[39mtracks: TrackArgument) \u001b[38;5;241m-\u001b[39m\u001b[38;5;241m>\u001b[39m Browser:\n\u001b[1;32m    101\u001b[0m \u001b[38;5;250m    \u001b[39m\u001b[38;5;124;03m\"\"\"Create a new genome browser instance.\u001b[39;00m\n\u001b[1;32m    102\u001b[0m \n\u001b[1;32m    103\u001b[0m \u001b[38;5;124;03m    Parameters\u001b[39;00m\n\u001b[0;32m   (...)\u001b[0m\n\u001b[1;32m    112\u001b[0m \u001b[38;5;124;03m        The browser widget.\u001b[39;00m\n\u001b[1;32m    113\u001b[0m \u001b[38;5;124;03m    \"\"\"\u001b[39;00m\n\u001b[1;32m    115\u001b[0m     CONTEXT\u001b[38;5;241m.\u001b[39mcurrent \u001b[38;5;241m=\u001b[39m Browser(\n\u001b[0;32m--> 116\u001b[0m         genome\u001b[38;5;241m=\u001b[39mCONTEXT\u001b[38;5;241m.\u001b[39mgenome, locus\u001b[38;5;241m=\u001b[39mCONTEXT\u001b[38;5;241m.\u001b[39mlocus, tracks\u001b[38;5;241m=\u001b[39m[\u001b[43mtrack\u001b[49m\u001b[43m(\u001b[49m\u001b[43mt\u001b[49m\u001b[43m)\u001b[49m \u001b[38;5;28;01mfor\u001b[39;00m t \u001b[38;5;129;01min\u001b[39;00m tracks]\n\u001b[1;32m    117\u001b[0m     )\n\u001b[1;32m    118\u001b[0m     \u001b[38;5;28;01mreturn\u001b[39;00m CONTEXT\u001b[38;5;241m.\u001b[39mcurrent\n",
      "File \u001b[0;32m~/demos/pygv/src/pygv/_api.py:72\u001b[0m, in \u001b[0;36mtrack\u001b[0;34m(t, **kwargs)\u001b[0m\n\u001b[1;32m     69\u001b[0m     \u001b[38;5;28;01mreturn\u001b[39;00m t\n\u001b[1;32m     71\u001b[0m \u001b[38;5;28;01mif\u001b[39;00m \u001b[38;5;28misinstance\u001b[39m(t, (\u001b[38;5;28mstr\u001b[39m, pathlib\u001b[38;5;241m.\u001b[39mPath)):\n\u001b[0;32m---> 72\u001b[0m     url, is_local \u001b[38;5;241m=\u001b[39m \u001b[43m_resolve_file_or_url\u001b[49m\u001b[43m(\u001b[49m\u001b[43mt\u001b[49m\u001b[43m)\u001b[49m\n\u001b[1;32m     73\u001b[0m     index_url \u001b[38;5;241m=\u001b[39m \u001b[38;5;28;01mNone\u001b[39;00m\n\u001b[1;32m     74\u001b[0m     name \u001b[38;5;241m=\u001b[39m pathlib\u001b[38;5;241m.\u001b[39mPath(t)\u001b[38;5;241m.\u001b[39mname \u001b[38;5;28;01mif\u001b[39;00m is_local \u001b[38;5;28;01melse\u001b[39;00m url\n",
      "File \u001b[0;32m~/demos/pygv/src/pygv/_api.py:61\u001b[0m, in \u001b[0;36m_resolve_file_or_url\u001b[0;34m(path_or_url)\u001b[0m\n\u001b[1;32m     59\u001b[0m path \u001b[38;5;241m=\u001b[39m pathlib\u001b[38;5;241m.\u001b[39mPath(normalized)\u001b[38;5;241m.\u001b[39mresolve()\n\u001b[1;32m     60\u001b[0m \u001b[38;5;28;01mif\u001b[39;00m \u001b[38;5;129;01mnot\u001b[39;00m path\u001b[38;5;241m.\u001b[39mis_file() \u001b[38;5;129;01mor\u001b[39;00m \u001b[38;5;129;01mnot\u001b[39;00m path\u001b[38;5;241m.\u001b[39mexists():\n\u001b[0;32m---> 61\u001b[0m     \u001b[38;5;28;01mraise\u001b[39;00m \u001b[38;5;167;01mFileNotFoundError\u001b[39;00m(path)\n\u001b[1;32m     62\u001b[0m resource \u001b[38;5;241m=\u001b[39m _PROVIDER\u001b[38;5;241m.\u001b[39mcreate(path)\n\u001b[1;32m     63\u001b[0m _RESOURCES\u001b[38;5;241m.\u001b[39madd(resource)\n",
      "\u001b[0;31mFileNotFoundError\u001b[0m: /Users/manzt/demos/pygv/fragments.bed"
     ]
    }
   ],
   "source": [
    "import pygv\n",
    "\n",
    "pygv.ref(\"mm10\")\n",
    "pygv.locus(\"chr17:31,531,100-31,531,259\")\n",
    "pygv.browse(\"fragments.bed\", \"10x_cov.bw\")"
   ]
  },
  {
   "cell_type": "code",
   "execution_count": null,
   "metadata": {},
   "outputs": [],
   "source": []
  }
 ],
 "metadata": {
  "kernelspec": {
   "display_name": "Python 3 (ipykernel)",
   "language": "python",
   "name": "python3"
  },
  "language_info": {
   "codemirror_mode": {
    "name": "ipython",
    "version": 3
   },
   "file_extension": ".py",
   "mimetype": "text/x-python",
   "name": "python",
   "nbconvert_exporter": "python",
   "pygments_lexer": "ipython3",
   "version": "3.12.2"
  },
  "widgets": {
   "application/vnd.jupyter.widget-state+json": {
    "state": {},
    "version_major": 2,
    "version_minor": 0
   }
  }
 },
 "nbformat": 4,
 "nbformat_minor": 4
}
